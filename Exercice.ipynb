{
 "cells": [
  {
   "cell_type": "markdown",
   "metadata": {
    "deletable": true,
    "editable": true
   },
   "source": [
    "# Exercice ADN\n",
    "\n",
    "L'étude de l'ADN est un enjeu majeur dans le domaine médical, ainsi que dans de nombreux autres domaines.\n",
    "\n",
    "![](dna.png)\n",
    "\n",
    "L'analyse de cette longue molécule du vivant permet, par exemple, de détecter des maladies héréditaires ou d'identifier des agents pathogènes.\n",
    "\n",
    "Dans le cadre de cet atelier, nous allons partir d'un scénario de contamination alimentaire. Après avoir mangé de la soupe, M Sanger est tombé malade et s'est retrouvé hospitalisé.\n",
    "\n",
    "![](soup.JPG)\n",
    "\n",
    "Nous avons séquencé l'ADN présent dans cette soupe et possédons un ensemble de fragments d'ADN issues du mélange sous format texte.\n",
    "\n",
    "![](soupe_seq.png)\n",
    "\n",
    "\n",
    "Le but de l'atelier sera de nous aider à mettre au point une méthode informatique (que nous programmerons ensemble) permettant de déterminer quelles sont les différentes espèces (via leur ADN) présentes dans la soupe et ainsi de découvrir d'éventuels agents pathogènes.\n"
   ]
  },
  {
   "cell_type": "markdown",
   "metadata": {
    "deletable": true,
    "editable": true
   },
   "source": [
    "# Préliminaires\n",
    "\n",
    "Nous allons dans un premier temps nous familiariser avec quelques notions du langage de programmation Python.\n",
    "\n",
    "Une séquence ADN est affectée à une variable, puis affichée.\n",
    "\n",
    "(Cliquez sur une cellule de code puis appuyer sur Shift+Entrée pour l'exécuter.)\n"
   ]
  },
  {
   "cell_type": "code",
   "execution_count": 15,
   "metadata": {
    "collapsed": false,
    "deletable": true,
    "editable": true,
    "scrolled": false
   },
   "outputs": [
    {
     "name": "stdout",
     "output_type": "stream",
     "text": [
      "ACGTATCG\n"
     ]
    }
   ],
   "source": [
    "sequence1 = \"ACGTATCG\"\n",
    "print(sequence1)"
   ]
  },
  {
   "cell_type": "markdown",
   "metadata": {
    "deletable": true,
    "editable": true
   },
   "source": [
    "Représentons toutes les séquences ADN présentes dans l'exemple précédent."
   ]
  },
  {
   "cell_type": "code",
   "execution_count": 16,
   "metadata": {
    "collapsed": false,
    "deletable": true,
    "editable": true
   },
   "outputs": [
    {
     "name": "stdout",
     "output_type": "stream",
     "text": [
      "CAAGGCC\n",
      "TATTTTCC\n"
     ]
    }
   ],
   "source": [
    "sequence2 = \"CAAGGCC\"\n",
    "sequence3 = \"TATTTTCC\"\n",
    "print(sequence2)\n",
    "print(sequence3)"
   ]
  },
  {
   "cell_type": "markdown",
   "metadata": {
    "deletable": true,
    "editable": true
   },
   "source": [
    "Nous pouvons les stocker dans un tableau:"
   ]
  },
  {
   "cell_type": "code",
   "execution_count": 17,
   "metadata": {
    "collapsed": false,
    "deletable": true,
    "editable": true
   },
   "outputs": [
    {
     "name": "stdout",
     "output_type": "stream",
     "text": [
      "['ACGTATCG', 'CAAGGCC', 'TATTTTCC']\n"
     ]
    }
   ],
   "source": [
    "toutes_les_sequences = [sequence1,sequence2,sequence3]\n",
    "print(toutes_les_sequences)"
   ]
  },
  {
   "cell_type": "markdown",
   "metadata": {
    "deletable": true,
    "editable": true
   },
   "source": [
    "Enfin, il est possible de parcourir le tableau pour trouver la séquence correspondant au chou"
   ]
  },
  {
   "cell_type": "code",
   "execution_count": 4,
   "metadata": {
    "collapsed": false,
    "deletable": true,
    "editable": true
   },
   "outputs": [
    {
     "name": "stdout",
     "output_type": "stream",
     "text": [
      "trouvé le chou: TATTTTCC\n"
     ]
    }
   ],
   "source": [
    "for sequence in toutes_les_sequences:\n",
    "    if sequence == \"TATTTTCC\":\n",
    "        print(\"trouvé le chou:\", sequence)"
   ]
  },
  {
   "cell_type": "markdown",
   "metadata": {
    "collapsed": true,
    "deletable": true,
    "editable": true
   },
   "source": [
    "# Mise en situation\n",
    "\n",
    "La situation en réalité est un peu plus complexe que le schéma ci-dessus. \n",
    "\n",
    "Notre expérience de séquençage ADN de la soupe ne nous donne pas un seul morceau d'ADN par organisme. Elle en donne plusieurs (en vrai.. des millions).\n",
    "\n",
    "![](soupe_seq2.png)\n",
    "\n",
    "Par ailleurs, le séquenceur ne nous dit pas directement quelle séquence ADN correspond à quel organisme. Cette information est cependant connue via d'autres moyens. Par exemple, regardons la fonction donnée ci-dessous.\n"
   ]
  },
  {
   "cell_type": "code",
   "execution_count": 7,
   "metadata": {
    "collapsed": false,
    "deletable": true,
    "editable": true
   },
   "outputs": [
    {
     "name": "stdout",
     "output_type": "stream",
     "text": [
      "chou\n"
     ]
    }
   ],
   "source": [
    "# le mot-clé \"def\" permet de définir une fonction, dont le corps est un ensemble d'instructions\n",
    "def afficher_organisme(sequence):\n",
    "    if sequence == \"ACGTATCG\" or sequence == \"GTATCG\" or sequence == \"ACGTATCG\":\n",
    "        print(\"crevette\")\n",
    "    if sequence == \"CAAGGCC\" or sequence == \"AGGCCTTGG\":\n",
    "        print(\"mais\")\n",
    "    if sequence == \"TATTTTCC\" or sequence == \"GGTTAATCC\" or sequence == \"TAATCCAAAC\":\n",
    "        print(\"chou\")\n",
    "\n",
    "afficher_organisme(\"TATTTTCC\")"
   ]
  },
  {
   "cell_type": "markdown",
   "metadata": {
    "deletable": true,
    "editable": true
   },
   "source": [
    "Cette fonction réalise l'identification d'un organisme étant donnée sa séquence ADN. Elle compare la séquence donnée à une ensemble de séquences connues."
   ]
  },
  {
   "cell_type": "markdown",
   "metadata": {
    "deletable": true,
    "editable": true
   },
   "source": [
    "### Exo : Identification d'espèces\n",
    "\n",
    "Pour l'ensemble de séquences donné ci-dessous, utiliser la fonction ci-dessus pour afficher leur organisme"
   ]
  },
  {
   "cell_type": "code",
   "execution_count": 6,
   "metadata": {
    "collapsed": true,
    "deletable": true,
    "editable": true
   },
   "outputs": [],
   "source": [
    "sequences = [\"ACGTATCG\", \"GTATCG\", \"ACGTATCG\", \"CAAGGCC\", \"AGGCCTTGG\", \"AGGCCTTGG\", \"TATTTTCC\", \"GGTTAATCC\", \"TAATCCAAAC\"]\n",
    "# à vous de jouer:\n",
    "# le résultat sera de la forme:\n",
    "# crevette\n",
    "# crevette\n",
    "# ...\n",
    "# écrire le code ici:\n",
    "\n",
    "\n",
    "\n",
    "# fin du code"
   ]
  },
  {
   "cell_type": "markdown",
   "metadata": {
    "deletable": true,
    "editable": true
   },
   "source": [
    "# Génomes de référence\n",
    "\n",
    "Dans les exercices précédents, une espèce était identifiée lorsque l'on retrouvait exactement sa séquence parmis des morceaux de référence de l'espèce.\n",
    "\n",
    "Dans la réalité, l'ADN présent dans les cellules est bien plus grand que les morceaux donnés par le séquenceur. Pour identifier une espèce, nous n'utilisons pas une base de données de morceaux connus, mais plutot une base de données de gènes complets. Il s'agit alors de retrouver si les morceaux séquencés sont contenus dans (au moins un) des gènes complets connus.\n",
    "\n",
    "Les lignes de code suivantes permettent de découper un brin d'ADN pour en extraire une sous-partie et l'afficher, ainsi que sa taille."
   ]
  },
  {
   "cell_type": "code",
   "execution_count": 7,
   "metadata": {
    "collapsed": false,
    "deletable": true,
    "editable": true
   },
   "outputs": [
    {
     "name": "stdout",
     "output_type": "stream",
     "text": [
      "TTACGTT\n",
      "7\n"
     ]
    }
   ],
   "source": [
    "ADN = \"ACTTTACGTTTGCCAGCGTGACGGCAACGTGCAAGTCAGCTGACGTACCCCCGA\"\n",
    "sequence = ADN[3:10]\n",
    "print(sequence)\n",
    "\n",
    "taille = len(sequence)\n",
    "print (taille)"
   ]
  },
  {
   "cell_type": "markdown",
   "metadata": {
    "deletable": true,
    "editable": true
   },
   "source": [
    "En Python, il est possible réaliser plusieurs fois la même suite d'instructions, paramétrée par une variable (\"i\") prenant des valeurs croissantes sur un intervalle d'entiers [a,b[, comme ceci:"
   ]
  },
  {
   "cell_type": "code",
   "execution_count": 25,
   "metadata": {
    "collapsed": false,
    "deletable": true,
    "editable": true
   },
   "outputs": [
    {
     "name": "stdout",
     "output_type": "stream",
     "text": [
      "1\n",
      "2\n",
      "2\n",
      "4\n",
      "3\n",
      "6\n"
     ]
    }
   ],
   "source": [
    "a=1\n",
    "b=4\n",
    "for i in range(a,b):\n",
    "    print(i)\n",
    "    print(i*2)"
   ]
  },
  {
   "cell_type": "markdown",
   "metadata": {
    "deletable": true,
    "editable": true
   },
   "source": [
    "### Exo : Générer tous les morceaux de taille 5\n",
    "\n",
    "Afin de pouvoir retrouver un morceau séquencé d'ADN d'une certaine taille dans un gène, un moyen possible est de générer tous les morceaux possibles du gène et de comparer chacun des morceaux de gène au morceau séquencé. \n",
    "\n",
    "Dans un premier temps, pouvez-vous afficher toutes les sous-séquences possibles de taille 5 de l'ADN de référence suivant?\n"
   ]
  },
  {
   "cell_type": "code",
   "execution_count": 8,
   "metadata": {
    "collapsed": false,
    "deletable": true,
    "editable": true
   },
   "outputs": [],
   "source": [
    "ADN = \"ACTTTACGTTTGCCAGCGTGACGGCAACGTGCAAGTCAGCTGACGTACCCCCGA\"\n",
    "# à vous de jouer:\n",
    "# le résultat sera de la forme:\n",
    "# ACTTT\n",
    "# CTTTA\n",
    "# TTTAC\n",
    "# ...\n",
    "# écrire le code ici:\n",
    "\n",
    "\n",
    "\n",
    "# fin du code"
   ]
  },
  {
   "cell_type": "markdown",
   "metadata": {
    "deletable": true,
    "editable": true
   },
   "source": [
    "### Exo : Identifier un fragment\n",
    "\n",
    "Dans cet exercice, vous aurez une liste de fragments à identifier. Pouvez-vous dire si ils font partie du génome de la crevette ?"
   ]
  },
  {
   "cell_type": "code",
   "execution_count": 9,
   "metadata": {
    "collapsed": true,
    "deletable": true,
    "editable": true
   },
   "outputs": [],
   "source": [
    "crevette = \"ACTTTACGTTTGCCAGCGTGACGGCAACGTGCAAGTCAGCTGACGTACCCCCGA\"\n",
    "fragments = [\"ACGTATCG\", \"CAAGGCCT\", \"AGGCCTGG\", \"AAAGGCCT\", \"GGTTAACC\", \"TAATAAAC\", \"CAGCTGAC\"]\n",
    "# à vous de jouer:\n",
    "# le résultat sera de la forme:\n",
    "# Pas présent\n",
    "# Pas présent\n",
    "# Présent\n",
    "# ...\n",
    "# écrire le code ici:\n",
    "\n",
    "\n",
    "\n",
    "# fin du code"
   ]
  },
  {
   "cell_type": "markdown",
   "metadata": {
    "deletable": true,
    "editable": true
   },
   "source": [
    "### Exo : Assigner les fragments\n",
    "\n",
    "Plus que la présence ou l'absence de fragments, nous aimerions savoir à quel espèce ils appartiennent. Pour la suite, nous aurons donc besoin de parcourir plusieurs ADNs rangés par espèce dans ce qu'on appelle un dictionnaire. Le code suivant vous montre comment parcourir et récupérer un élement d'un dictionnaire."
   ]
  },
  {
   "cell_type": "code",
   "execution_count": 10,
   "metadata": {
    "collapsed": false,
    "deletable": true,
    "editable": true
   },
   "outputs": [
    {
     "name": "stdout",
     "output_type": "stream",
     "text": [
      "AGCACTGATAGCGTCTGTGACGAGAAGTGCGCGCGTGAGGGGCTCTTTTTCGAGGACATACGCGT\n",
      "crevette\n",
      "poireau\n",
      "carotte\n"
     ]
    }
   ],
   "source": [
    "ADNs = {\n",
    "    \"crevette\" : \"ACTTTACGTTTGCCAGCGTGACGGCAACGTGCAAGTCAGCTGACGTACCCCCGA\",\n",
    "    \"poireau\" : \"AGCACTGATAGCGTCTGTGACGAGAAGTGCGCGCGTGAGGGGCTCTTTTTCGAGGACATACGCGT\",\n",
    "    \"carotte\" : \"ATTCGATCTAGCCTAAAGCTTAGCTAGCGCATTGCGCTATATGCTCTAGCTAGC\"\n",
    "}\n",
    "\n",
    "print (ADNs[\"poireau\"])\n",
    "\n",
    "for espece in ADNs:\n",
    "    print (espece)"
   ]
  },
  {
   "cell_type": "markdown",
   "metadata": {
    "deletable": true,
    "editable": true
   },
   "source": [
    "Pouvez-vous assiner chaque fragement à l'espèce correspondante ?"
   ]
  },
  {
   "cell_type": "code",
   "execution_count": 11,
   "metadata": {
    "collapsed": true,
    "deletable": true,
    "editable": true
   },
   "outputs": [],
   "source": [
    "ADNs = {\n",
    "    \"crevette\" : \"ACTTTACGTTTGCCAGCGTGACGGCAACGTGCAAGTCAGCTGACGTACCCCCGA\",\n",
    "    \"poireau\" : \"AGCACTGATAGCGTCTGTGACGAGAAGTGCGCGCGTGAGGGGCTCTTTTTCGAGGACATACGCGT\",\n",
    "    \"carotte\" : \"ATTCGATCTAGCCTAAAGCTTAGCTAGCGCATTGCGCTATATGCTCTAGCTAGC\"\n",
    "}\n",
    "fragments = [\"TGTGACGA\", \"CGATCTAG\", \"TCTAGCCT\", \"ACGTACCC\", \"CGCTATAT\", \"CTTTTTCG\", \"CAGCTGAC\"]\n",
    "\n",
    "# à vous de jouer:\n",
    "# le résultat sera de la forme:\n",
    "# carotte\n",
    "# poireau\n",
    "# poireau\n",
    "# ...\n",
    "# écrire le code ici:\n",
    "\n",
    "\n",
    "\n",
    "# fin du code"
   ]
  },
  {
   "cell_type": "markdown",
   "metadata": {
    "deletable": true,
    "editable": true
   },
   "source": [
    "# Des données réelles\n",
    "\n",
    "Jusqu'à présent, nous avons exécuté nos algorithmes sur des petits exemples bien pratiques. Passons désormais aux données réelles.\n",
    "\n",
    "Les données réelles sont tellement volumineuses que nous ne les afficherons pas ici. Le code que nous utiliserons par la suite se chargera de charger directement les références et fragments depuis des fichiers vers des structures identiques à celles présentées auparavant. Pour vous rendre compte vous même de taille des données, n'hésitez pas à ouvrir les fichiers dans un éditeur de texte.\n",
    "\n",
    "## Premier jeu de données\n",
    "\n",
    "Le premier jeu de données est très similaire aux exemples que nous venons de traiter. Seule la taille est beaucoup plus importante.\n",
    "\n",
    "Vu le nombre de fragments à analyser, nous n'allons plus écrire l'appartenance de chaque fragment, mais compter le nombre de fragment qui appartient à chaque espèce. Pour cela, nous aurons besoin d'initialiser et d'incrémenter un compteur par espèce. Dans le code suivant, vous trouverez tout ce qu'il faut pour y parvenir."
   ]
  },
  {
   "cell_type": "code",
   "execution_count": 2,
   "metadata": {
    "collapsed": false,
    "deletable": true,
    "editable": true
   },
   "outputs": [
    {
     "name": "stdout",
     "output_type": "stream",
     "text": [
      "carotte : 2\n",
      "crevette : 0\n",
      "poireau : 1\n"
     ]
    }
   ],
   "source": [
    "ADNs = {\n",
    "    \"crevette\" : \"ACTTTACGTTTGCCAGCGTGACGGCAACGTGCAAGTCAGCTGACGTACCCCCGA\",\n",
    "    \"poireau\" : \"AGCACTGATAGCGTCTGTGACGAGAAGTGCGCGCGTGAGGGGCTCTTTTTCGAGGACATACGCGT\",\n",
    "    \"carotte\" : \"ATTCGATCTAGCCTAAAGCTTAGCTAGCGCATTGCGCTATATGCTCTAGCTAGC\"\n",
    "}\n",
    "\n",
    "# Initialisation des compteurs\n",
    "compteurs = {};\n",
    "for espece in ADNs:\n",
    "    compteurs[espece] = 0;\n",
    "\n",
    "# Ajout de carottes et poireaux\n",
    "compteurs[\"carotte\"] = compteurs[\"carotte\"] + 1\n",
    "compteurs[\"carotte\"] = compteurs[\"carotte\"] + 1\n",
    "compteurs[\"poireau\"] = compteurs[\"poireau\"] + 1\n",
    "\n",
    "# Affichage des compteurs\n",
    "for espece in ADNs:\n",
    "    print(espece + \" : \" + str(compteurs[espece]))\n",
    "    # Ici il est nécessaire de transformer le compteur en une chaine\n",
    "    # de caractère pour pouvoir l'imprimer (méthode str)"
   ]
  },
  {
   "cell_type": "markdown",
   "metadata": {
    "deletable": true,
    "editable": true
   },
   "source": [
    "### Exo : Comptage d'espèces\n",
    "\n",
    "En s'inspirant des codes précédents, comptez le nombre de fragments appartenants à chaque espèce présente dans la soupe et affichez le résultat."
   ]
  },
  {
   "cell_type": "code",
   "execution_count": 25,
   "metadata": {
    "collapsed": false,
    "deletable": true,
    "editable": true
   },
   "outputs": [],
   "source": [
    "import outils_tp      \n",
    "ADNs = outils_tp.lecture_base() # dictionnaire des espèces connues\n",
    "fragments = outils_tp.lecture_donnees('reads/soupe_sequencage_exo1.fasta') # données de séquençage adn\n",
    "\n",
    "# à vous de jouer:\n",
    "# le résultat sera de la forme:\n",
    "# carotte : 3\n",
    "# poireau : 12\n",
    "# ...\n",
    "# écrire le code ici:\n",
    "\n",
    "\n",
    "# fin du code"
   ]
  },
  {
   "cell_type": "markdown",
   "metadata": {
    "deletable": true,
    "editable": true
   },
   "source": [
    "La composition de la soupe vous paraît-elle normale ? Si certains noms d'espèce ne vous disent rien, n'hésitez pas à consulter wikipédia."
   ]
  },
  {
   "cell_type": "markdown",
   "metadata": {
    "deletable": true,
    "editable": true
   },
   "source": [
    "## Complexité de problèmes\n",
    "\n",
    "En informatique, la complexité temporelle d'un problème représente le nombre d'opétationsr qui vont être effectuées par ce problème. Cette complexité est mesurée par rapport à une opération effectuée par le programme écrit. Prenons comme exemple le programme suivant."
   ]
  },
  {
   "cell_type": "code",
   "execution_count": 23,
   "metadata": {
    "collapsed": false,
    "deletable": true,
    "editable": true
   },
   "outputs": [
    {
     "name": "stdout",
     "output_type": "stream",
     "text": [
      "55\n"
     ]
    }
   ],
   "source": [
    "somme = 0\n",
    "for i in range (1, 11):\n",
    "    somme = somme + i\n",
    "    \n",
    "print(somme)"
   ]
  },
  {
   "cell_type": "markdown",
   "metadata": {
    "deletable": true,
    "editable": true
   },
   "source": [
    "Pour calculer la complexité de ce programme, nous devons choisir une opération effectuée dans ce programme et compter le nombre de fois qu'elle est appliquée. Ici, nous pouvons par exemple prendre \"additionner deux nombres\".\n",
    "\n",
    "L'opération d'addition est effectuée une unique fois au sein d'une boucle qui parcours tous les indices de 1 à 10 inclus. On dira donc que la complexité du problème en fonction de l'addition est 10.\n",
    "\n",
    "Il est important de choisir précautionneusement l'opération à mesurer afin de représenter au mieux l'ordre de grandeur du nombre d'instructions effectuées par la machine. Par exemple, si nous avions choisis l'affectation comme opération (symbole =), nous aurions eu 1 opération avant le for et 10 pendant, soit 11 opérations. Ce nombre est encore plus précis que le premier mais ne change pas l'ordre de grandeur. Si on remplace le 11 de la boucle par n'importe quel autre nombre, la variation entre les deux calculs ne sera que de 1. Au contraire, si on prend l'opération afficher (_print(...)_), quel que soit les valeurs dans la boucle, la complexité vaudra toujours 1. Cette mesure ne représentera donc pas bien le nombre d'instructions effectuées par la machine."
   ]
  },
  {
   "cell_type": "markdown",
   "metadata": {
    "deletable": true,
    "editable": true
   },
   "source": [
    "### Exo : Calculs de complexités\n",
    "\n",
    "Voici deux fonctions qui effectuent des calculs, quelle est leur complexité ? Pour vérifier vos calculs, appelez les fonctions avec un n et un m que vous définirez."
   ]
  },
  {
   "cell_type": "code",
   "execution_count": 5,
   "metadata": {
    "collapsed": false,
    "deletable": true,
    "editable": true
   },
   "outputs": [
    {
     "name": "stdout",
     "output_type": "stream",
     "text": [
      "0\n",
      "0\n"
     ]
    }
   ],
   "source": [
    "# n est un entier positif passé en paramètre des fonctions\n",
    "def fonction_1 (n):\n",
    "    somme = 0\n",
    "    for i in range (1, n+1):\n",
    "        somme = somme + 1\n",
    "        somme = somme + 1\n",
    "    print (somme)\n",
    "\n",
    "# n et m sont des entiers positifs passés en paramètre des fonctions\n",
    "def fonction_2 (n, m):\n",
    "    somme = 0\n",
    "    for i in range (1, n+1):\n",
    "        for j in range (1, m+1):\n",
    "            somme = somme + 1\n",
    "    print (somme)\n",
    "    \n",
    "# Modifier les paramètres ici\n",
    "fonction_1 (0)\n",
    "fonction_2 (0, 0)"
   ]
  },
  {
   "cell_type": "markdown",
   "metadata": {
    "deletable": true,
    "editable": true
   },
   "source": [
    "### Exo : Complexité de votre programme ?\n",
    "\n",
    "Pouvez-vous calculer la complexité de votre analyse de séquences d'ADN précédente ?"
   ]
  },
  {
   "cell_type": "markdown",
   "metadata": {
    "deletable": true,
    "editable": true
   },
   "source": [
    "## Second jeu de données\n",
    "\n",
    "Dans le premier jeu de données, nous avons été sélectifs sur les fragments d'ADN que vous aviez à annoter. Chaque fragment appartenait à exactement une espèce de référence. Dans la réalité, les étres vivants évoluent tous à partir d'ancêtres communs. C'est à dire que plusieurs espèces issues d'un ancêtre commun on un jour partagé le même ADN. Il est donc très logique de retrouver dans la soupe, des fragments d'ADN pouvant appartenir à plusieurs espèces simultanément.\n",
    "\n",
    "A votre avis, que doit on faire dans ce cas ? Pouvez-vous modifier votre programme précédent pour prendre en compte cette possibilité ?"
   ]
  },
  {
   "cell_type": "code",
   "execution_count": 6,
   "metadata": {
    "collapsed": true,
    "deletable": true,
    "editable": true
   },
   "outputs": [],
   "source": [
    "import outils_tp      \n",
    "ADNs = outils_tp.lecture_base()\n",
    "fragments = outils_tp.lecture_donnees('reads/soupe_sequencage_exo2.fasta')\n",
    "\n",
    "# à vous de jouer:\n",
    "# le résultat sera de la forme:\n",
    "# carotte : 3\n",
    "# poireau : 12\n",
    "# ...\n",
    "# écrire le code ici:\n",
    "\n",
    "\n",
    "\n",
    "# fin du code"
   ]
  },
  {
   "cell_type": "markdown",
   "metadata": {
    "deletable": true,
    "editable": true
   },
   "source": [
    "## Super-bonus : Réduction de complexité\n",
    "\n",
    "Depuis le début, nous comparons des chaînes de caractère sans nous soucier de leur taille grace à l'opérateur \"==\" de python. En réalité, l'opérateur == n'effectue pas une unique opération mais une comparaison successive de chaque caractère. Donc comparer deux chaînes de 5 caratères coûtent en réalité 5 opérations.\n",
    "\n",
    "Afin de réduire cette complexité, nous souhaiterions ne plus comparer des chaînes de caractères mais plutôt des entiers. Pour cela, regardons comment transformer un mot en nombre.\n",
    "\n",
    "Si l'on considère n'analyser que des textes ADN, les 4 seuls caractères composant notre texte sont donc A, C, G et T. En attribuant un nombre à chacune de ces lettres, il est très facile d'encoder un texte d'un seul caractère. Donnons par exemple les valeurs suivantes :\n",
    "\n",
    "* A = 0\n",
    "* C = 1\n",
    "* G = 2\n",
    "* T = 3\n",
    "\n",
    "Essayons maintenant de donner une valeur à un mot de plus de 1 lettre. Pour cela, prenons l'exemple du mot GATTACA. Décomposons ce mot en valeurs sur chaque lettre :  \n",
    "\n",
    "![](gattaca.png)\n",
    "\n",
    "La façon simple de transformer cette suite de lettres en nombre est de simplement les additionner. Cependant, on s'apperçoit très vite que dans ce cas, les mots TA et AT donnent tous les deux une valeur de 3. Par cette simple addition nous avons encodé la composition et non l'ordre des lettres.\n",
    "\n",
    "Pour encoder notre mot, nous allons nous inspirer de ce qui est fait pour coder du binaire <https://fr.wikipedia.org/wiki/Syst%C3%A8me_binaire>.  \n",
    "A la place de faire une simple addition, nous additionnerons les nombres en les décalant à chaque fois d'une puissance de la taille de notre alphabet. Ainsi, un mot à une lettre aura 4 valeurs distinctes, un mot à deux lettres 16 valeurs, 3 lettres 64 etc.\n",
    "\n",
    "Notre mot GATTACA se voit alors codé par l'entier 9156 par les opérations suivantes :\n",
    "\n",
    "![](gattaca2.png)\n",
    "\n",
    "Une telle fonction qui transforme un texte en nombre est appelé fonction de hachage. Pouvez-vous implémenter une fonction de hash qui prenne une chaîne de caractère en entrée et qui sorte le nombre correspondant en sortie ?"
   ]
  },
  {
   "cell_type": "code",
   "execution_count": 26,
   "metadata": {
    "collapsed": false,
    "deletable": true,
    "editable": true
   },
   "outputs": [
    {
     "name": "stdout",
     "output_type": "stream",
     "text": [
      "0\n"
     ]
    }
   ],
   "source": [
    "def hachage (mot):\n",
    "    # à modifier\n",
    "    return 0\n",
    "\n",
    "print (hachage(\"GATTACA\"))"
   ]
  },
  {
   "cell_type": "markdown",
   "metadata": {
    "deletable": true,
    "editable": true
   },
   "source": [
    "### Retour à la comparaison\n",
    "\n",
    "Nous pouvons également effectuer la même opération de hachage succéssivement pour chacun des indices de notre ADN de référence. La comparaison du morceau de la référence et du fragment se fera alors en une seule comparaison d'entier.\n",
    "\n",
    "Pouvez-vous adapter votre code précédent en tranformant la comparaison des deux chaînes en comparaison de deux entiers ?"
   ]
  },
  {
   "cell_type": "code",
   "execution_count": 8,
   "metadata": {
    "collapsed": true
   },
   "outputs": [],
   "source": [
    "import outils_tp      \n",
    "ADNs = outils_tp.lecture_base()\n",
    "fragments = outils_tp.lecture_donnees('reads/soupe_sequencage_exo2.fasta')\n",
    "\n",
    "# à vous de jouer:\n",
    "# le résultat sera de la forme:\n",
    "# carotte : 3\n",
    "# poireau : 12\n",
    "# ...\n",
    "# écrire le code ici:\n",
    "\n",
    "\n",
    "\n",
    "# fin du code"
   ]
  },
  {
   "cell_type": "markdown",
   "metadata": {},
   "source": [
    "### Une fenêtre glissante\n",
    "\n",
    "Avec la fonction de hachage ci-dessus, nous avons triché. En réalité, le nombre de comparaisons de caractères a été remplacé par un nombre d'additions plus élevé. Là où il y avait 5 comparaisons de lettres, il y a 5 désormais additions. La complexité est donc restée la même. Cependant, il est possible de s'en tirer uniquement avec deux opérations d'addition. Lorsque l'on calcul la valeur de hachage pour deux sous chaînes succéssives de la référence, ces chaînes possèdent toutes leurs lettres en commun sauf une.\n",
    "\n",
    "Par exemple, travaillons sur la référence CATTAGG... Imaginons que je recherche les des fragments de taille 4. Alors mes deux premiers fragments seront CATT et ATTA. Ces deux mots ont ATT en commun. L'astuce est de tirer partie de ce sous mot en commun pour n'avoir qu'à retirer la première lettre et ajouter la dernière.\n",
    "\n",
    "Voici le hachage du premier fragment :\n",
    "\n",
    "![](init.png)\n",
    "\n",
    "Multiplier le nombre obtenu par la taille de notre alphabet (ici 4) revient à augmenter l'ensemble des puissance de 1.\n",
    "\n",
    "![](decal.png)\n",
    "\n",
    "On peut ensuite ajouter à notre hashage la valeur du nouveau nucléotide. Ici un A donc 0 :\n",
    "\n",
    "![](add.png)\n",
    "\n",
    "Enfin, on peut supprimer le nucléotide dont on n'a plus besoin en soustrayant la valeur de ce nucléotide multiplié par son décalage (la taille de l'alphabet à la puissance de la taille du fragment). Ici diviser par 1 (car C) multiplié par 4^4 (taille de l'aphabet puissance taille du fragment) :\n",
    "\n",
    "![](rmv.png)\n",
    "\n",
    "En effectuant une multiplication, une addition et une soustraction, nous somme parvenu a passer d'un hachage vers le suivant.\n",
    "\n",
    "Pouvez-vous implémenter une fonction qui fait cela ?"
   ]
  },
  {
   "cell_type": "code",
   "execution_count": 9,
   "metadata": {
    "collapsed": false
   },
   "outputs": [
    {
     "data": {
      "text/plain": [
       "0"
      ]
     },
     "execution_count": 9,
     "metadata": {},
     "output_type": "execute_result"
    }
   ],
   "source": [
    "def hach_decal (hachage, nouvelle_lettre, ancienne_lettre):\n",
    "    # à modifier\n",
    "    return 0\n",
    "\n",
    "# transformation de GATTACA en ATTACAT\n",
    "hach_decal(9156, 'T', 'G')"
   ]
  },
  {
   "cell_type": "markdown",
   "metadata": {},
   "source": [
    "Pouvez-vous l'inclure dans votre code précédent ?"
   ]
  },
  {
   "cell_type": "code",
   "execution_count": 10,
   "metadata": {
    "collapsed": true
   },
   "outputs": [],
   "source": [
    "import outils_tp      \n",
    "ADNs = outils_tp.lecture_base()\n",
    "fragments = outils_tp.lecture_donnees('reads/soupe_sequencage_exo2.fasta')\n",
    "\n",
    "# à vous de jouer:\n",
    "# le résultat sera de la forme:\n",
    "# carotte : 3\n",
    "# poireau : 12\n",
    "# ...\n",
    "# écrire le code ici:\n",
    "\n",
    "\n",
    "\n",
    "# fin du code"
   ]
  },
  {
   "cell_type": "code",
   "execution_count": null,
   "metadata": {
    "collapsed": true
   },
   "outputs": [],
   "source": []
  }
 ],
 "metadata": {
  "anaconda-cloud": {},
  "kernelspec": {
   "display_name": "Python [default]",
   "language": "python",
   "name": "python3"
  },
  "language_info": {
   "codemirror_mode": {
    "name": "ipython",
    "version": 3
   },
   "file_extension": ".py",
   "mimetype": "text/x-python",
   "name": "python",
   "nbconvert_exporter": "python",
   "pygments_lexer": "ipython3",
   "version": "3.5.2"
  }
 },
 "nbformat": 4,
 "nbformat_minor": 2
}
